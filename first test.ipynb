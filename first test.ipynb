{
 "cells": [
  {
   "cell_type": "code",
   "execution_count": 1,
   "metadata": {},
   "outputs": [],
   "source": [
    "import os\n",
    "from FeatureSelection import FeatureSelection\n",
    "import pandas as pd\n",
    "from sklearn.metrics import classification_report, f1_score, accuracy_score, confusion_matrix\n",
    "from sklearn.svm import SVC, LinearSVC\n",
    "from sklearn import svm\n",
    "from sklearn.feature_extraction.text import  TfidfVectorizer,TfidfTransformer,CountVectorizer\n",
    "import matplotlib.pyplot as plt\n",
    "from sklearn.feature_selection import SelectKBest, chi2, mutual_info_classif\n",
    "import math\n",
    "\n",
    "\n",
    "df=pd.DataFrame()\n",
    "\n",
    "\n",
    "def split_data(data,partition_by_id,category): #put this method under the open csv loop data must be in panda form\n",
    "    data= data\n",
    "    cat=category\n",
    "    data['topic_bool']=data['topic'].map(lambda text :target_category(text,cat))\n",
    "    for index,row in data.iterrows():\n",
    "        if ( int(row['filename']) < partition_by_id ):\n",
    "            y_train.append(row['topic_bool'])\n",
    "        else:\n",
    "            y_test.append(row['topic_bool'])\n",
    "\n",
    "\n",
    "def target_category(text,target_cat):\n",
    "    text=text[:-1]# strip last ;\n",
    "    array=text.split(';')\n",
    "    for x in array:\n",
    "        if (x.startswith(target_cat)):\n",
    "            return 1\n",
    "    return 0\n",
    "\n",
    "\n",
    "category_matrix=[\"C1\",\"C11\",\"C12\",\"C13\",\"C14\",\"C15\",\"C151\",\"C1511\",\"C152\",\"C16\",\"C17\",\"C171\",\"C172\",\"C173\",\"C174\",\"C18\",\"C181\",\"C182\",\"C183\",\"C2\",\"C21\",\n",
    "\"C22\",\"C23\",\"C24\",\"C3\",\"C31\",\"C311\",\"C312\",\"C313\",\"C32\",\"C33\",\"C331\",\"C34\",\"C4\",\"C41\",\"C411\",\"C42\",\"C\",\"E1\",\"E11\",\"E12\",\"E121\",\"E13\",\n",
    "\"E131\",\"E132\",\"E14\",\"E141\",\"E142\",\"E143\",\"E2\",\"E21\",\"E211\",\"E212\",\"E3\",\"E31\",\"E311\",\"E312\",\"E313\",\"E4\",\"E41\",\"E411\",\"E5\",\"E51\",\"E511\",\n",
    "\"E512\",\"E513\",\"E6\",\"E61\",\"E7\",\"E71\",\"E\",\"G1\",\"G15\",\"G151\",\"G152\",\"G153\",\"G154\",\"G155\",\"G156\",\"G157\",\"G158\",\"G159\",\"G\",\"GCRIM\",\"GDEF\",\"GDIP\",\"GDIS\",\"GENT\",\"GENV\",\"GFAS\",\"GHEA\",\"GJOB\",\"GMIL\",\"GOBIT\",\"GODD\",\"GPOL\",\"GPRO\",\"GREL\",\"GSCI\",\"GSPO\",\"GTOUR\",\n",
    "\"GVIO\",\"GVOTE\",\"GWEA\",\"GWELF\",\"M1\",\"M11\",\"M12\",\"M13\",\"M131\",\"M132\",\"M14\",\"M141\",\"M142\",\"M143\",\"M\"]\n",
    "# category_matrix=[\"C\"]\n",
    "train_list=[]\n",
    "test_list=[]\n",
    "\n",
    "for category in category_matrix:\n",
    "    df=pd.DataFrame()\n",
    "    y_train=[]\n",
    "    y_test=[]\n",
    "    partition_by_id=389827\n",
    "\n",
    "    #use relative path\n",
    "    for csv in os.listdir(\"../testspace2/csvs\"):\n",
    "        data = pd.read_csv(\"../testspace2/csvs/\"+csv, encoding = 'iso-8859-1')\n",
    "        split_data(data,partition_by_id,category)\n",
    "    train_list.append(sum(y_train))\n",
    "    test_list.append(sum(y_test))\n",
    "        \n",
    "df['categories']=category_matrix\n",
    "df['train_docs']=train_list\n",
    "df['test_docs']=test_list\n",
    "df['percent_train']=df['train_docs']/len(y_train)\n",
    "df['percent_test']=df['test_docs']/len(y_test)\n",
    "\n",
    "\n",
    "df.to_csv('../testspace2/csvs2/exlpore.csv', index=False)\n",
    "\n",
    "\n"
   ]
  },
  {
   "cell_type": "code",
   "execution_count": 10,
   "metadata": {},
   "outputs": [
    {
     "data": {
      "text/plain": [
       "count       116.000000\n",
       "mean      13954.913793\n",
       "std       27187.457254\n",
       "min           0.000000\n",
       "25%        1181.000000\n",
       "50%        4235.500000\n",
       "75%       14089.000000\n",
       "max      184456.000000\n",
       "Name: train_docs, dtype: float64"
      ]
     },
     "execution_count": 10,
     "metadata": {},
     "output_type": "execute_result"
    }
   ],
   "source": [
    "df['train_docs'].describe()\n",
    "\n"
   ]
  },
  {
   "cell_type": "code",
   "execution_count": null,
   "metadata": {},
   "outputs": [],
   "source": []
  }
 ],
 "metadata": {
  "kernelspec": {
   "display_name": "Python 3",
   "language": "python",
   "name": "python3"
  },
  "language_info": {
   "codemirror_mode": {
    "name": "ipython",
    "version": 3
   },
   "file_extension": ".py",
   "mimetype": "text/x-python",
   "name": "python",
   "nbconvert_exporter": "python",
   "pygments_lexer": "ipython3",
   "version": "3.7.0"
  }
 },
 "nbformat": 4,
 "nbformat_minor": 2
}
