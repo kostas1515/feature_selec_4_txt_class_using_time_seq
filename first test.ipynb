{
 "cells": [
  {
   "cell_type": "code",
   "execution_count": 3,
   "metadata": {},
   "outputs": [
    {
     "name": "stdout",
     "output_type": "stream",
     "text": [
      "accuracy 0.9936\n",
      "confusion matrix\n",
      " [[225   2]\n",
      " [  2 396]]\n",
      "             precision    recall  f1-score   support\n",
      "\n",
      "          0       0.99      0.99      0.99       227\n",
      "          1       0.99      0.99      0.99       398\n",
      "\n",
      "avg / total       0.99      0.99      0.99       625\n",
      "\n"
     ]
    },
    {
     "ename": "ValueError",
     "evalue": "X has 32621 features per sample; expecting 1000",
     "output_type": "error",
     "traceback": [
      "\u001b[1;31m---------------------------------------------------------------------------\u001b[0m",
      "\u001b[1;31mValueError\u001b[0m                                Traceback (most recent call last)",
      "\u001b[1;32m<ipython-input-3-9f64369dba3f>\u001b[0m in \u001b[0;36m<module>\u001b[1;34m()\u001b[0m\n\u001b[0;32m     52\u001b[0m \u001b[1;33m\u001b[0m\u001b[0m\n\u001b[0;32m     53\u001b[0m \u001b[0marray3\u001b[0m\u001b[1;33m=\u001b[0m\u001b[0mvectorizer\u001b[0m\u001b[1;33m.\u001b[0m\u001b[0mfit_transform\u001b[0m\u001b[1;33m(\u001b[0m\u001b[0mx_test\u001b[0m\u001b[1;33m)\u001b[0m\u001b[1;33m\u001b[0m\u001b[0m\n\u001b[1;32m---> 54\u001b[1;33m \u001b[0mtest_test_predict\u001b[0m \u001b[1;33m=\u001b[0m \u001b[0mclf\u001b[0m\u001b[1;33m.\u001b[0m\u001b[0mpredict\u001b[0m\u001b[1;33m(\u001b[0m\u001b[0marray3\u001b[0m\u001b[1;33m)\u001b[0m\u001b[1;33m\u001b[0m\u001b[0m\n\u001b[0m\u001b[0;32m     55\u001b[0m \u001b[1;33m\u001b[0m\u001b[0m\n\u001b[0;32m     56\u001b[0m \u001b[1;33m\u001b[0m\u001b[0m\n",
      "\u001b[1;32m~\\Anaconda3\\lib\\site-packages\\sklearn\\linear_model\\base.py\u001b[0m in \u001b[0;36mpredict\u001b[1;34m(self, X)\u001b[0m\n\u001b[0;32m    322\u001b[0m             \u001b[0mPredicted\u001b[0m \u001b[1;32mclass\u001b[0m \u001b[0mlabel\u001b[0m \u001b[0mper\u001b[0m \u001b[0msample\u001b[0m\u001b[1;33m.\u001b[0m\u001b[1;33m\u001b[0m\u001b[0m\n\u001b[0;32m    323\u001b[0m         \"\"\"\n\u001b[1;32m--> 324\u001b[1;33m         \u001b[0mscores\u001b[0m \u001b[1;33m=\u001b[0m \u001b[0mself\u001b[0m\u001b[1;33m.\u001b[0m\u001b[0mdecision_function\u001b[0m\u001b[1;33m(\u001b[0m\u001b[0mX\u001b[0m\u001b[1;33m)\u001b[0m\u001b[1;33m\u001b[0m\u001b[0m\n\u001b[0m\u001b[0;32m    325\u001b[0m         \u001b[1;32mif\u001b[0m \u001b[0mlen\u001b[0m\u001b[1;33m(\u001b[0m\u001b[0mscores\u001b[0m\u001b[1;33m.\u001b[0m\u001b[0mshape\u001b[0m\u001b[1;33m)\u001b[0m \u001b[1;33m==\u001b[0m \u001b[1;36m1\u001b[0m\u001b[1;33m:\u001b[0m\u001b[1;33m\u001b[0m\u001b[0m\n\u001b[0;32m    326\u001b[0m             \u001b[0mindices\u001b[0m \u001b[1;33m=\u001b[0m \u001b[1;33m(\u001b[0m\u001b[0mscores\u001b[0m \u001b[1;33m>\u001b[0m \u001b[1;36m0\u001b[0m\u001b[1;33m)\u001b[0m\u001b[1;33m.\u001b[0m\u001b[0mastype\u001b[0m\u001b[1;33m(\u001b[0m\u001b[0mnp\u001b[0m\u001b[1;33m.\u001b[0m\u001b[0mint\u001b[0m\u001b[1;33m)\u001b[0m\u001b[1;33m\u001b[0m\u001b[0m\n",
      "\u001b[1;32m~\\Anaconda3\\lib\\site-packages\\sklearn\\linear_model\\base.py\u001b[0m in \u001b[0;36mdecision_function\u001b[1;34m(self, X)\u001b[0m\n\u001b[0;32m    303\u001b[0m         \u001b[1;32mif\u001b[0m \u001b[0mX\u001b[0m\u001b[1;33m.\u001b[0m\u001b[0mshape\u001b[0m\u001b[1;33m[\u001b[0m\u001b[1;36m1\u001b[0m\u001b[1;33m]\u001b[0m \u001b[1;33m!=\u001b[0m \u001b[0mn_features\u001b[0m\u001b[1;33m:\u001b[0m\u001b[1;33m\u001b[0m\u001b[0m\n\u001b[0;32m    304\u001b[0m             raise ValueError(\"X has %d features per sample; expecting %d\"\n\u001b[1;32m--> 305\u001b[1;33m                              % (X.shape[1], n_features))\n\u001b[0m\u001b[0;32m    306\u001b[0m \u001b[1;33m\u001b[0m\u001b[0m\n\u001b[0;32m    307\u001b[0m         scores = safe_sparse_dot(X, self.coef_.T,\n",
      "\u001b[1;31mValueError\u001b[0m: X has 32621 features per sample; expecting 1000"
     ]
    }
   ],
   "source": [
    "import os\n",
    "from FeatureSelection import FeatureSelection\n",
    "import pandas as pd\n",
    "from sklearn.metrics import classification_report, f1_score, accuracy_score, confusion_matrix\n",
    "from sklearn.svm import SVC, LinearSVC\n",
    "from sklearn.feature_extraction.text import  TfidfVectorizer\n",
    "\n",
    "\n",
    "bench=FeatureSelection(\"C\",3001) #enter target category and the last id of the preffered train_set\n",
    "#use relative path\n",
    "for csv in os.listdir(\"../testspace2/csvs\"):\n",
    "\tdata = pd.read_csv(\"../testspace2/csvs/\"+csv, encoding = 'iso-8859-1')\n",
    "\tbench.split_data(data)\n",
    "\n",
    "\n",
    "uniform_new_x_train=bench.uniform('single',decision_thres=0.5,topk=1000)\n",
    "# bench.rdf(topk=1000)\n",
    "# rdf_new_x_train=bench.new_x_train\n",
    "# bench.chi_squere(1000)\n",
    "# chi2_new_x_train=bench.new_x_train\n",
    "\n",
    "\n",
    "\n",
    "label_train=bench.y_train\n",
    "label_test=bench.y_test\n",
    "x_test=bench.x_test\n",
    "\n",
    "vectorizer = TfidfVectorizer(lowercase=False)\n",
    "vectorizer.fit(uniform_new_x_train)\n",
    "u_x = vectorizer.fit_transform(uniform_new_x_train)\n",
    "#r_x = vectorizer.fit_transform(rdf_new_x_train)\n",
    "#c_x = vectorizer.fit_transform(chi2_new_x_train)\n",
    "#TRAIN PHASE\n",
    "\n",
    "clf = LinearSVC()\n",
    "clf.fit(u_x, label_train)\n",
    "\n",
    "\n",
    "train_predictions = clf.predict(u_x)\n",
    "confidence = clf.score(u_x,label_train )\n",
    " \n",
    " \n",
    "print ('accuracy', accuracy_score(label_train, train_predictions))\n",
    "print ('confusion matrix\\n', confusion_matrix(label_train, train_predictions))\n",
    "\n",
    "\n",
    "print(classification_report(label_train, train_predictions))\n",
    "\n",
    "\n",
    "#TEST PHASE\n",
    "\n",
    "\n",
    "array3=vectorizer.fit_transform(x_test)\n",
    "test_test_predict = clf.predict(array3)\n",
    "\n",
    "\n",
    "conf_test = confusion_matrix(label_test, test_test_predict)\n",
    "\n",
    "\n",
    "print(clf)\n",
    "print(\"Testttttt\\n\")\n",
    " \n",
    "print ('accuracy', accuracy_score(label_test, test_test_predict))\n",
    "print ('confusion matrix\\n', confusion_matrix(label_test, test_test_predict))\n",
    "print ('(row=expected, col=predicted)')\n",
    "print(classification_report(label_test, test_test_predict))"
   ]
  },
  {
   "cell_type": "code",
   "execution_count": null,
   "metadata": {},
   "outputs": [],
   "source": []
  }
 ],
 "metadata": {
  "kernelspec": {
   "display_name": "Python 3",
   "language": "python",
   "name": "python3"
  },
  "language_info": {
   "codemirror_mode": {
    "name": "ipython",
    "version": 3
   },
   "file_extension": ".py",
   "mimetype": "text/x-python",
   "name": "python",
   "nbconvert_exporter": "python",
   "pygments_lexer": "ipython3",
   "version": "3.7.0"
  }
 },
 "nbformat": 4,
 "nbformat_minor": 2
}
